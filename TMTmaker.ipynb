{
 "cells": [
  {
   "cell_type": "code",
   "execution_count": 1,
   "metadata": {},
   "outputs": [],
   "source": [
    "import numpy as np\n",
    "import matplotlib.pyplot as plt\n",
    "import matplotlib.patches as patches\n",
    "from PIL import Image, ImageDraw, ImageFont\n",
    "inf=np.inf\n",
    "pi=np.pi"
   ]
  },
  {
   "cell_type": "markdown",
   "metadata": {},
   "source": [
    "### 円と円の交差判定\n",
    "- 接するのは交差に入ります"
   ]
  },
  {
   "cell_type": "code",
   "execution_count": 2,
   "metadata": {},
   "outputs": [],
   "source": [
    "def length_AB(A, B):\n",
    "    return pow(pow(A[0]-B[0], 2)+pow(A[1]-B[1], 2), 1/2)\n",
    "\n",
    "def check_circles_cross(A, ra, B, rb):\n",
    "    length=length_AB(A, B)\n",
    "    if length<=ra+rb:\n",
    "        cross=True\n",
    "    else:\n",
    "        cross=False\n",
    "    return cross"
   ]
  },
  {
   "cell_type": "markdown",
   "metadata": {},
   "source": [
    "### 線分と線分の交差判定\n",
    "- 接するのは交差に入ります"
   ]
  },
  {
   "cell_type": "code",
   "execution_count": 3,
   "metadata": {},
   "outputs": [],
   "source": [
    "#直線A, Bの傾き\n",
    "def gradient_2_dots(A, B):\n",
    "    if A[0]==B[0]:\n",
    "        k=inf\n",
    "    else:\n",
    "        k=(B[1]-A[1])/(B[0]-A[0])\n",
    "    return k\n",
    "\n",
    "#入力の点A, B, C, Dについて、直線ABと直線CDの交点XをpOA+(1-p)OB、qOC+(1-q)ODで表す時のp, q\n",
    "#なお直線ABの傾きは無限大ではないこと、二直線は平行でないこと、の2点は満たしていることを前提とする\n",
    "def calc_pq(A, B, C, D):\n",
    "    q=((D[1]-B[1])*(A[0]-B[0])-(D[0]-B[0])*(A[1]-B[1]))/((C[0]-D[0])*(A[1]-B[1])-(C[1]-D[1])*(A[0]-B[0]))\n",
    "    p=(q*(C[0]-D[0])+D[0]-B[0])/(A[0]-B[0])\n",
    "    return p, q\n",
    "\n",
    "#点A, B, C, Dが与えられたとき、線分ABと線分CDが交差するか判定する関数\n",
    "def check_AB_CD_cross(A, B, C, D):\n",
    "    k1=gradient_2_dots(A, B)\n",
    "    k2=gradient_2_dots(C, D)\n",
    "    \n",
    "    if k1==inf and k2==inf:\n",
    "        cross=False\n",
    "    elif k1==k2:\n",
    "        cross=False\n",
    "    else:\n",
    "        if k1!=inf:\n",
    "            p, q=calc_pq(A, B, C, D)\n",
    "        else:\n",
    "            p, q=calc_pq(C, D, A, B)\n",
    "            \n",
    "        if p*(1-p)>=0 and q*(1-q)>=0:\n",
    "            cross=True\n",
    "        else:\n",
    "            cross=False\n",
    "    return cross"
   ]
  },
  {
   "cell_type": "markdown",
   "metadata": {},
   "source": [
    "### TMTのノード群を得る"
   ]
  },
  {
   "cell_type": "code",
   "execution_count": 4,
   "metadata": {},
   "outputs": [],
   "source": [
    "def get_nodes(n_nodes, space, white, diameter):\n",
    "    cross=True\n",
    "    while cross==True:\n",
    "        nodes=np.c_[np.random.rand(n_nodes)*(space[0]-2*white[0])+white[0], np.random.rand(n_nodes)*(space[1]-2*white[1])+white[1]]\n",
    "        cross=check_all_circles_cross(nodes, diameter/2)\n",
    "    return nodes\n",
    "\n",
    "def check_all_circles_cross(nodes, r):\n",
    "    cross=False\n",
    "    for x in range(nodes.shape[0]-1):\n",
    "        for y in range(x+1, nodes.shape[0]):\n",
    "            if check_circles_cross(nodes[x], r, nodes[y], r):\n",
    "                cross=True\n",
    "    return cross\n",
    "\n",
    "def uncrosser(nodes, space, white, diameter):\n",
    "    cross=True\n",
    "    while cross==True:\n",
    "        nodes, cross=line_uncrosser(nodes)\n",
    "    \n",
    "    return nodes\n",
    "\n",
    "def line_uncrosser(nodes):\n",
    "    cross=False\n",
    "    for x in range(nodes.shape[0]-3):\n",
    "        for y in range(x+2, nodes.shape[0]-1):\n",
    "            if check_AB_CD_cross(nodes[x], nodes[x+1], nodes[y], nodes[y+1]):\n",
    "                cross=True\n",
    "                nodes=AB_CD_2_AC_BD(nodes, x, y)\n",
    "                break\n",
    "        \n",
    "        if cross==True:\n",
    "            break\n",
    "    return nodes, cross\n",
    "\n",
    "def AB_CD_2_AC_BD(nodes, x, y):\n",
    "    nodes=np.r_[nodes[:x+1], nodes[y:x:-1], nodes[(y+1):]]\n",
    "    return nodes"
   ]
  },
  {
   "cell_type": "markdown",
   "metadata": {},
   "source": [
    "### 設定"
   ]
  },
  {
   "cell_type": "code",
   "execution_count": 5,
   "metadata": {},
   "outputs": [],
   "source": [
    "n_nodes=25\n",
    "space_w=1050\n",
    "space_h=1485\n",
    "white_w=50\n",
    "white_h=50\n",
    "diameter=50\n",
    "\n",
    "space=np.array([space_w, space_h])\n",
    "white=np.array([white_w, white_h])"
   ]
  },
  {
   "cell_type": "markdown",
   "metadata": {},
   "source": [
    "### 描画 TMT-A"
   ]
  },
  {
   "cell_type": "code",
   "execution_count": 6,
   "metadata": {},
   "outputs": [],
   "source": [
    "nodes=get_nodes(n_nodes, space, white, diameter)\n",
    "nodes=uncrosser(nodes, space, white, diameter)\n",
    "\n",
    "im=Image.new('RGB', (space[0], space[1]), (200, 200, 200))\n",
    "draw=ImageDraw.Draw(im)\n",
    "font = ImageFont.truetype(\"arial.ttf\", 32)\n",
    "\n",
    "for i in range(nodes.shape[0]):\n",
    "    temp=nodes[i]\n",
    "    draw.ellipse((temp[0]-diameter/2, temp[1]-diameter/2, temp[0]+diameter/2, temp[1]+diameter/2), fill=(255, 255, 255), outline=(0, 0, 0))\n",
    "    if i<9:\n",
    "        draw.text((temp[0]-diameter*2/5, temp[1]-diameter*2/5), ' '+str(i+1), (0, 0, 0), font)\n",
    "    else:\n",
    "        draw.text((temp[0]-diameter*2/5, temp[1]-diameter*2/5), str(i+1), (0, 0, 0), font)\n",
    "im.save('TMT-A.jpg', quality=95)"
   ]
  },
  {
   "cell_type": "markdown",
   "metadata": {},
   "source": [
    "### 描画 TMT-B"
   ]
  },
  {
   "cell_type": "code",
   "execution_count": 7,
   "metadata": {},
   "outputs": [],
   "source": [
    "nodes=get_nodes(n_nodes, space, white, diameter)\n",
    "nodes=uncrosser(nodes, space, white, diameter)\n",
    "\n",
    "im=Image.new('RGB', (space[0], space[1]), (200, 200, 200))\n",
    "draw=ImageDraw.Draw(im)\n",
    "font = ImageFont.truetype(\"arial.ttf\", 32)\n",
    "characters_num=[' 1', ' 2', ' 3', ' 4', ' 5', ' 6', ' 7', ' 8', ' 9', '10', '11', '12', '13']\n",
    "characters_jpn=[' A', ' B', ' C', ' D', ' E', ' F', ' G', ' H', ' I', ' J', ' K', ' L']\n",
    "characters=[None]*25\n",
    "characters[::2]=characters_num\n",
    "characters[1::2]=characters_jpn\n",
    "\n",
    "for i in range(nodes.shape[0]):\n",
    "    temp=nodes[i]\n",
    "    draw.ellipse((temp[0]-diameter/2, temp[1]-diameter/2, temp[0]+diameter/2, temp[1]+diameter/2), fill=(255, 255, 255), outline=(0, 0, 0))\n",
    "    draw.text((temp[0]-diameter*2/5, temp[1]-diameter*2/5), characters[i], (0, 0, 0), font)\n",
    "\n",
    "im.save('TMT-B.jpg', quality=95)"
   ]
  }
 ],
 "metadata": {
  "kernelspec": {
   "display_name": "Python 3",
   "language": "python",
   "name": "python3"
  },
  "language_info": {
   "codemirror_mode": {
    "name": "ipython",
    "version": 3
   },
   "file_extension": ".py",
   "mimetype": "text/x-python",
   "name": "python",
   "nbconvert_exporter": "python",
   "pygments_lexer": "ipython3",
   "version": "3.6.4"
  }
 },
 "nbformat": 4,
 "nbformat_minor": 2
}
